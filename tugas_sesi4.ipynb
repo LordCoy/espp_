{
  "nbformat": 4,
  "nbformat_minor": 0,
  "metadata": {
    "colab": {
      "name": "Untitled2.ipynb",
      "provenance": [],
      "toc_visible": true,
      "authorship_tag": "ABX9TyNZlE1GwRDJ5MpgvMXYQbht",
      "include_colab_link": true
    },
    "kernelspec": {
      "name": "python3",
      "display_name": "Python 3"
    },
    "language_info": {
      "name": "python"
    }
  },
  "cells": [
    {
      "cell_type": "markdown",
      "metadata": {
        "id": "view-in-github",
        "colab_type": "text"
      },
      "source": [
        "<a href=\"https://colab.research.google.com/github/LordCoy/espp_/blob/master/tugas_sesi4.ipynb\" target=\"_parent\"><img src=\"https://colab.research.google.com/assets/colab-badge.svg\" alt=\"Open In Colab\"/></a>"
      ]
    },
    {
      "cell_type": "code",
      "execution_count": null,
      "metadata": {
        "colab": {
          "base_uri": "https://localhost:8080/"
        },
        "id": "05E1hgw72t62",
        "outputId": "5a4e1541-2e14-421b-83c3-69f997bef45e"
      },
      "outputs": [
        {
          "output_type": "stream",
          "name": "stdout",
          "text": [
            "Masukan Nama Barang = Indomie\n",
            "Masukan Harga Barang = 25000\n",
            "Masukan Kode Barang = 3\n",
            "Harga  Indomie Setelah Diskon adalah, Rp. 6250.0\n",
            "Harga Telah Dipotong Diskon Sebesar Rp. 18750.0\n"
          ]
        }
      ],
      "source": [
        "\n",
        "nm_barang = input(\"Masukan Nama Barang = \")\n",
        "harga = float(input(\"Masukan Harga Barang = \"))\n",
        "kd_barang = int(input(\"Masukan Kode Barang = \"))\n",
        "\n",
        "o = (kd_barang >= 1) or (kd_barang < 4)\n",
        "if o == False:\n",
        "    print(\"Harga Diskon Tidak Tersedia !!!\")\n",
        "\n",
        "if kd_barang == 1:\n",
        "    x = harga * (25/100)\n",
        "    harga2 = harga - x\n",
        "    print(\"Harga \",nm_barang,\"Setelah Diskon adalah, Rp.\",harga2)\n",
        "    i = kd_barang < 4 and harga > harga2\n",
        "    if i == True :\n",
        "        print(\"Harga Telah Dipotong Diskon Sebesar Rp.\",x)\n",
        "elif kd_barang == 2:\n",
        "    x = harga * (50/100)\n",
        "    harga2 = harga - x\n",
        "    print(\"Harga \",nm_barang,\"Setelah Diskon adalah, Rp.\",harga2)\n",
        "    i = kd_barang < 4 and harga > harga2\n",
        "    if i == True :\n",
        "        print(\"Harga Telah Dipotong Diskon Sebesar Rp.\",x)\n",
        "elif kd_barang == 3:\n",
        "    x = harga * (75/100)\n",
        "    harga2 = harga - x\n",
        "    print(\"Harga \",nm_barang,\"Setelah Diskon adalah, Rp.\",harga2)\n",
        "    i = kd_barang < 4 and harga > harga2\n",
        "    if i == True :\n",
        "        print(\"Harga Telah Dipotong Diskon Sebesar Rp.\",x)"
      ]
    },
    {
      "cell_type": "code",
      "source": [
        ""
      ],
      "metadata": {
        "id": "B0Bil7iR4bth"
      },
      "execution_count": null,
      "outputs": []
    }
  ]
}